{
 "cells": [
  {
   "cell_type": "code",
   "execution_count": 1,
   "metadata": {
    "colab": {
     "base_uri": "https://localhost:8080/"
    },
    "executionInfo": {
     "elapsed": 2469,
     "status": "ok",
     "timestamp": 1664695268297,
     "user": {
      "displayName": "Junho Choi (JxC)",
      "userId": "06817711668237685306"
     },
     "user_tz": -540
    },
    "id": "dDcqMm7EdnwC",
    "outputId": "3080fe89-bf6a-4c45-e28b-bbd223fc522a"
   },
   "outputs": [],
   "source": [
    "%matplotlib inline\n",
    "\n",
    "import os\n",
    "import time\n",
    "import copy\n",
    "import pandas as pd\n",
    "import numpy as np\n",
    "\n",
    "from random import seed\n",
    "from random import randint\n",
    "import random\n",
    "\n",
    "import torch\n",
    "from torch import nn\n",
    "from torch import optim\n",
    "import torch.nn.functional as F\n",
    "from torch.utils.data import Dataset, DataLoader\n",
    "from torchvision import datasets, transforms, models\n",
    "\n",
    "from matplotlib import pyplot as plt\n",
    "\n",
    "import warnings\n",
    "warnings.filterwarnings(\"ignore\")\n",
    "\n",
    "from tqdm import tqdm\n",
    "\n",
    "import math\n",
    "\n",
    "from sklearn.metrics import roc_auc_score, average_precision_score\n",
    "\n",
    "import seaborn as sns\n",
    "\n",
    "sns.set()\n",
    "\n",
    "import cv2"
   ]
  },
  {
   "cell_type": "code",
   "execution_count": 2,
   "metadata": {},
   "outputs": [],
   "source": [
    "# We want to resize to 160 x 120, similar to Ma et al\n",
    "frame_transforms = torch.nn.Sequential(\n",
    "    transforms.Resize((160,120)),\n",
    ")\n",
    "def preprocess_frame(frame):\n",
    "    # CV returns frame of shape (H,W,3). Pytorch's transform requires (3,H,W), so we need to permute the values beforehand\n",
    "    transformed_frame = frame_transforms(torch.permute(torch.Tensor(image),(2,0,1)))\n",
    "#    transformed_frame /= 255\n",
    "    return torch.permute(transformed_frame,(1,2,0))\n"
   ]
  },
  {
   "cell_type": "code",
   "execution_count": 3,
   "metadata": {
    "colab": {
     "base_uri": "https://localhost:8080/"
    },
    "executionInfo": {
     "elapsed": 245572,
     "status": "ok",
     "timestamp": 1664696080785,
     "user": {
      "displayName": "Junho Choi (JxC)",
      "userId": "06817711668237685306"
     },
     "user_tz": -540
    },
    "id": "2wJFjA32hEV-",
    "outputId": "a8ac2aaa-4972-4d8f-b974-edd5352f79d6"
   },
   "outputs": [
    {
     "name": "stderr",
     "output_type": "stream",
     "text": [
      "100%|██████████| 784/784 [4:36:34<00:00, 21.17s/it]    \n"
     ]
    }
   ],
   "source": [
    "VIDEO_DIR = r\"D:\\GSAI\\JUPYTER\\AI604\\UBI_FIGHTS\\videos\"\n",
    "FRAME_DIR = r\"D:\\GSAI\\JUPYTER\\AI604\\UBI_FIGHTS\\frames\"\n",
    "\n",
    "#for anomaly_type in [\"fight\",\"normal\"]:\n",
    "#for anomaly_type in [\"normal\"]:    \n",
    "    anomaly_video_dir = os.path.join(VIDEO_DIR,anomaly_type)\n",
    "    anomaly_frame_dir = os.path.join(FRAME_DIR,anomaly_type)\n",
    "    video_list = os.listdir(anomaly_video_dir)\n",
    "    for video in tqdm(video_list):\n",
    "        video_name = video.split('.')[0]\n",
    "        frame_folder = os.path.join(anomaly_frame_dir,video_name)\n",
    "        if not os.path.exists(frame_folder):\n",
    "            os.makedirs(frame_folder)    \n",
    "        cap = cv2.VideoCapture(os.path.join(anomaly_video_dir,video))\n",
    "        count = 0  \n",
    "        while cap.isOpened():\n",
    "            success, image = cap.read()\n",
    "            if success:\n",
    "                cv2.imwrite(os.path.join(frame_folder,'{0}.jpg'.format(count)), preprocess_frame(image).numpy())\n",
    "                count += 1\n",
    "            else:\n",
    "                break\n",
    "        cv2.destroyAllWindows()\n",
    "        cap.release()"
   ]
  },
  {
   "cell_type": "code",
   "execution_count": null,
   "metadata": {},
   "outputs": [],
   "source": []
  }
 ],
 "metadata": {
  "colab": {
   "authorship_tag": "ABX9TyOMWx/uVeiNHQKqZib8jieT",
   "collapsed_sections": [],
   "provenance": []
  },
  "kernelspec": {
   "display_name": "Python 3 (ipykernel)",
   "language": "python",
   "name": "python3"
  },
  "language_info": {
   "codemirror_mode": {
    "name": "ipython",
    "version": 3
   },
   "file_extension": ".py",
   "mimetype": "text/x-python",
   "name": "python",
   "nbconvert_exporter": "python",
   "pygments_lexer": "ipython3",
   "version": "3.9.12"
  }
 },
 "nbformat": 4,
 "nbformat_minor": 1
}
